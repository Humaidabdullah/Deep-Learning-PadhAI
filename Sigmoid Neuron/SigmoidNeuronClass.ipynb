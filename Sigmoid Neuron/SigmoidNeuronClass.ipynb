{
  "nbformat": 4,
  "nbformat_minor": 0,
  "metadata": {
    "colab": {
      "name": "SigmoidNeuronClass.ipynb",
      "provenance": [],
      "authorship_tag": "ABX9TyMowFohz3PumtkP/9wW9EEV",
      "include_colab_link": true
    },
    "kernelspec": {
      "name": "python3",
      "display_name": "Python 3"
    }
  },
  "cells": [
    {
      "cell_type": "markdown",
      "metadata": {
        "id": "view-in-github",
        "colab_type": "text"
      },
      "source": [
        "<a href=\"https://colab.research.google.com/github/Humaidabdullah/Deep-Learning-PadhAI/blob/master/Sigmoid%20Neuron/SigmoidNeuronClass.ipynb\" target=\"_parent\"><img src=\"https://colab.research.google.com/assets/colab-badge.svg\" alt=\"Open In Colab\"/></a>"
      ]
    },
    {
      "cell_type": "markdown",
      "metadata": {
        "id": "SeXFEee3__65",
        "colab_type": "text"
      },
      "source": [
        " # Sigmoid Neuron Class"
      ]
    },
    {
      "cell_type": "code",
      "metadata": {
        "id": "B_xuU1DfEVCb",
        "colab_type": "code",
        "colab": {}
      },
      "source": [
        "import numpy as np\n",
        "import matplotlib.pyplot as plt"
      ],
      "execution_count": 0,
      "outputs": []
    },
    {
      "cell_type": "code",
      "metadata": {
        "id": "moWkM0ub_s-Y",
        "colab_type": "code",
        "colab": {}
      },
      "source": [
        "class SigmoidNeuron:\n",
        "\n",
        "  def __init__(self):\n",
        "    self.w = None\n",
        "    self.b = None\n",
        "\n",
        "  def perceptron(self, x):\n",
        "    return np.dot(x,self.w.T) + self.b\n",
        "  \n",
        "  def sigmoid(self, x):\n",
        "    return 1.0/(1.0 + np.exp(-x))\n",
        "\n",
        "  def grad_w(self, x, y):\n",
        "    y_pred = self.sigmoid(self.perceptron(x))\n",
        "    return (y_pred - y) * y_pred * (1-y_pred) * x\n",
        "\n",
        "  def grad_b(self, x, y):\n",
        "    y_pred = self.sigmoid(self.perceptron(x))\n",
        "    return (y_pred - y) * y_pred * (1-y_pred) \n",
        "  \n",
        "  def fit(self, X, Y, epochs=1, lr = 1, initialize = True):\n",
        "    if initialize:\n",
        "      self.w = np.random.rand(1,X.shape[1]) #(row,col)\n",
        "      self.b = 0\n",
        "    for i in range(epochs):\n",
        "      dw = 0\n",
        "      db = 0\n",
        "      for x,y in zip(X,Y):\n",
        "        dw += self.grad_w(x,y)\n",
        "        db += self.grad_b(x,y)\n",
        "      self.w -= lr * dw\n",
        "      self.b -= lr * db"
      ],
      "execution_count": 0,
      "outputs": []
    },
    {
      "cell_type": "markdown",
      "metadata": {
        "id": "_4eA4ElLTRUv",
        "colab_type": "text"
      },
      "source": [
        "# Fit for toy data"
      ]
    },
    {
      "cell_type": "code",
      "metadata": {
        "id": "-xO_UmovFJWV",
        "colab_type": "code",
        "colab": {}
      },
      "source": [
        "X = np.asarray([[2.5,2.5],[4,-1],[1,-4],[3,1.34],[2,4],[1,5]])\n",
        "Y = [1,1,1,0,0,0]"
      ],
      "execution_count": 0,
      "outputs": []
    },
    {
      "cell_type": "code",
      "metadata": {
        "id": "QeX_k1jXJeuK",
        "colab_type": "code",
        "colab": {}
      },
      "source": [
        "sn = SigmoidNeuron()\n",
        "sn.fit(X,Y,1,0.25)"
      ],
      "execution_count": 0,
      "outputs": []
    },
    {
      "cell_type": "code",
      "metadata": {
        "id": "DSCQESLhTxYz",
        "colab_type": "code",
        "colab": {
          "base_uri": "https://localhost:8080/",
          "height": 185
        },
        "outputId": "bf96348b-342c-4a08-e301-927aa30bb5d9"
      },
      "source": [
        "for i in range(10):\n",
        "  print(sn.w,sn.b)\n",
        "  sn.fit(X,Y,1,0.5,False)"
      ],
      "execution_count": 15,
      "outputs": [
        {
          "output_type": "stream",
          "text": [
            "[[ 0.05472587 -0.73476627]] [-0.04717182]\n",
            "[[ 0.21296263 -0.6826255 ]] [0.00485272]\n",
            "[[ 0.27037902 -0.61769902]] [0.03023957]\n",
            "[[ 0.28939603 -0.5716472 ]] [0.04320366]\n",
            "[[ 0.28884956 -0.54878518]] [0.04854791]\n",
            "[[ 0.28281764 -0.53884159]] [0.05123347]\n",
            "[[ 0.2774491  -0.53382359]] [0.05374403]\n",
            "[[ 0.27356912 -0.53098484]] [0.05653716]\n",
            "[[ 0.27078094 -0.52937121]] [0.05955917]\n",
            "[[ 0.26868398 -0.52849704]] [0.0627208]\n"
          ],
          "name": "stdout"
        }
      ]
    },
    {
      "cell_type": "code",
      "metadata": {
        "id": "lFSYSZYBT0G4",
        "colab_type": "code",
        "colab": {}
      },
      "source": [
        ""
      ],
      "execution_count": 0,
      "outputs": []
    }
  ]
}